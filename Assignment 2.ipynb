{
 "cells": [
  {
   "cell_type": "code",
   "execution_count": 1,
   "id": "bbe5c0d0-02c5-4c47-9a48-eabd00b4582a",
   "metadata": {},
   "outputs": [],
   "source": [
    "#Q 1)"
   ]
  },
  {
   "cell_type": "code",
   "execution_count": 2,
   "id": "9a624e26-55dd-4633-a4e1-03b5ca1a0c43",
   "metadata": {},
   "outputs": [
    {
     "name": "stdin",
     "output_type": "stream",
     "text": [
      "enter your mark 80\n"
     ]
    },
    {
     "name": "stdout",
     "output_type": "stream",
     "text": [
      "you got grade B\n"
     ]
    }
   ],
   "source": [
    "marks = int(input('enter your mark'))\n",
    "if marks > 90 :\n",
    "    print('you got grade A')\n",
    "elif marks > 80 or marks <= 90 :\n",
    "    print('you got grade B')\n",
    "elif marks >= 60 or marks <= 80 : \n",
    "    print('you got grade C')\n",
    "else :\n",
    "    printnt('you got grade D')"
   ]
  },
  {
   "cell_type": "code",
   "execution_count": 3,
   "id": "c76b7ceb-8695-4267-b16c-4b44e7beee0a",
   "metadata": {},
   "outputs": [],
   "source": [
    "# Q 2]"
   ]
  },
  {
   "cell_type": "code",
   "execution_count": 5,
   "id": "0b383a82-73d7-4b3e-99c2-72e057fb3a6f",
   "metadata": {},
   "outputs": [
    {
     "name": "stdin",
     "output_type": "stream",
     "text": [
      "enter price of your bike 150000\n"
     ]
    },
    {
     "name": "stdout",
     "output_type": "stream",
     "text": [
      "your road tax is22500.0\n"
     ]
    }
   ],
   "source": [
    "cost_price = int(input('enter price of your bike'))\n",
    "\n",
    "if cost_price > 100000 :\n",
    "    print('your road tax is' + str(0.15*cost_price))\n",
    "elif cost_price > 50000 and cost_price <= 100000 :\n",
    "    print('your road tax is' + str(0.10*cost_price))\n",
    "elif cost_price <= 50000:\n",
    "    print('your road tax is' + str(0.05*cost_price))"
   ]
  },
  {
   "cell_type": "code",
   "execution_count": 6,
   "id": "63c1433e-aa3f-4ec9-b3d0-ad5bace71103",
   "metadata": {},
   "outputs": [],
   "source": [
    "# Q 3]"
   ]
  },
  {
   "cell_type": "code",
   "execution_count": 7,
   "id": "4470d439-df9b-48f7-8acd-65302aee5758",
   "metadata": {},
   "outputs": [
    {
     "name": "stdin",
     "output_type": "stream",
     "text": [
      "enter name of the city from [delhi,agra,jaipur] agra\n"
     ]
    },
    {
     "name": "stdout",
     "output_type": "stream",
     "text": [
      "taj mahal\n"
     ]
    }
   ],
   "source": [
    "city = input('enter name of the city from [delhi,agra,jaipur]')\n",
    "if city == 'delhi':\n",
    "    print('red fort')\n",
    "elif city == 'agra':\n",
    "    print('taj mahal')\n",
    "elif city == 'jaipur':\n",
    "    print('jal mahal')"
   ]
  },
  {
   "cell_type": "code",
   "execution_count": 8,
   "id": "a7ba7e9a-9de0-412e-89a2-694136cc46c8",
   "metadata": {},
   "outputs": [],
   "source": [
    "# Q 4]"
   ]
  },
  {
   "cell_type": "code",
   "execution_count": 9,
   "id": "9b21acd7-41a1-488a-9c19-cc415088f12d",
   "metadata": {},
   "outputs": [
    {
     "name": "stdin",
     "output_type": "stream",
     "text": [
      "enter your number 9\n"
     ]
    },
    {
     "name": "stdout",
     "output_type": "stream",
     "text": [
      "3\n"
     ]
    }
   ],
   "source": [
    "i = int(input('enter your number'))\n",
    "while i <= 10 :\n",
    "    print(int(i/3))\n",
    "    break"
   ]
  },
  {
   "cell_type": "code",
   "execution_count": 10,
   "id": "8a8b92a3-cdea-4900-95bc-a0c8e8a3d289",
   "metadata": {},
   "outputs": [],
   "source": [
    "# Q 5]"
   ]
  },
  {
   "cell_type": "code",
   "execution_count": 1,
   "id": "5f10d749-ee97-4a89-87bf-565ce851a773",
   "metadata": {},
   "outputs": [
    {
     "name": "stdin",
     "output_type": "stream",
     "text": [
      "enter your number 4\n"
     ]
    },
    {
     "name": "stdout",
     "output_type": "stream",
     "text": [
      "0\n",
      "1\n",
      "4\n",
      "9\n",
      "16\n"
     ]
    }
   ],
   "source": [
    "target = int(input('enter your number'))\n",
    "i = 0\n",
    "while i <= target :\n",
    "    print(i**2)\n",
    "    i = i+1"
   ]
  },
  {
   "cell_type": "code",
   "execution_count": 2,
   "id": "ccb64d3a-6938-4fa0-bc94-5a6aeda423c9",
   "metadata": {},
   "outputs": [],
   "source": [
    "# Q 6]"
   ]
  },
  {
   "cell_type": "code",
   "execution_count": 3,
   "id": "a72353cf-14c0-40c4-9a92-507e3da1b1b5",
   "metadata": {},
   "outputs": [
    {
     "name": "stdin",
     "output_type": "stream",
     "text": [
      "enter your number 10\n"
     ]
    },
    {
     "name": "stdout",
     "output_type": "stream",
     "text": [
      "10 * 1 = 10\n",
      "10 * 2 = 20\n",
      "10 * 3 = 30\n",
      "10 * 4 = 40\n",
      "10 * 5 = 50\n",
      "10 * 6 = 60\n",
      "10 * 7 = 70\n",
      "10 * 8 = 80\n",
      "10 * 9 = 90\n",
      "10 * 10 = 100\n"
     ]
    }
   ],
   "source": [
    "n = int(input('enter your number'))\n",
    "i = 1\n",
    "\n",
    "while i <=10 :\n",
    "    result = n *i\n",
    "    print(n ,'*',i ,'=',result)\n",
    "    i = i+1"
   ]
  },
  {
   "cell_type": "code",
   "execution_count": 5,
   "id": "12d16f48-91ff-4ee9-9e26-4d1ea348c4ab",
   "metadata": {},
   "outputs": [
    {
     "name": "stdout",
     "output_type": "stream",
     "text": [
      "*\n",
      "**\n",
      "***\n",
      "****\n",
      "*****\n"
     ]
    }
   ],
   "source": [
    "i = 1\n",
    "while i <= 5:\n",
    "    j = 1\n",
    "    while j <= i:\n",
    "        print( '*',end='')\n",
    "        j = j+1\n",
    "    print()\n",
    "    i = i+1"
   ]
  },
  {
   "cell_type": "code",
   "execution_count": 6,
   "id": "7977c0af-3b23-414b-a70d-5188d85b8d85",
   "metadata": {},
   "outputs": [
    {
     "name": "stdout",
     "output_type": "stream",
     "text": [
      "*****\n",
      "****\n",
      "***\n",
      "**\n",
      "*\n"
     ]
    }
   ],
   "source": [
    "i = 1\n",
    "while i <= 5:\n",
    "    j = 1\n",
    "    while j <=6-i:\n",
    "        print( '*',end='')\n",
    "        j = j+1\n",
    "    print()\n",
    "    i = i+1"
   ]
  },
  {
   "cell_type": "code",
   "execution_count": 7,
   "id": "8585b04d-2a16-4552-9c20-3aa48c6fa3e4",
   "metadata": {},
   "outputs": [],
   "source": [
    "# Q7]"
   ]
  },
  {
   "cell_type": "code",
   "execution_count": 9,
   "id": "1eca2b66-6238-4731-8cbc-8e5dfec4581e",
   "metadata": {},
   "outputs": [
    {
     "name": "stdout",
     "output_type": "stream",
     "text": [
      "10\n",
      "9\n",
      "8\n",
      "7\n",
      "6\n",
      "5\n",
      "4\n",
      "3\n",
      "2\n",
      "1\n"
     ]
    }
   ],
   "source": [
    "i = 10\n",
    "while i > 0:\n",
    "    print (i)\n",
    "    i=i-1"
   ]
  },
  {
   "cell_type": "code",
   "execution_count": 10,
   "id": "6cc0a7fd-b020-4b68-a3b6-4999c242bbf5",
   "metadata": {},
   "outputs": [],
   "source": [
    "# Q8]"
   ]
  },
  {
   "cell_type": "code",
   "execution_count": 11,
   "id": "57bc83f8-ef53-4b24-83b9-6df87903b940",
   "metadata": {},
   "outputs": [
    {
     "name": "stdout",
     "output_type": "stream",
     "text": [
      "10\n",
      "9\n",
      "8\n",
      "7\n",
      "6\n",
      "5\n",
      "4\n",
      "3\n",
      "2\n",
      "1\n"
     ]
    }
   ],
   "source": [
    "i = 10\n",
    "while i >0:\n",
    "    print(i)\n",
    "    i=i-1"
   ]
  },
  {
   "cell_type": "code",
   "execution_count": null,
   "id": "88dbd8f0-e14a-4ba6-9311-b3d7297a85e6",
   "metadata": {},
   "outputs": [],
   "source": []
  }
 ],
 "metadata": {
  "kernelspec": {
   "display_name": "Python 3 (ipykernel)",
   "language": "python",
   "name": "python3"
  },
  "language_info": {
   "codemirror_mode": {
    "name": "ipython",
    "version": 3
   },
   "file_extension": ".py",
   "mimetype": "text/x-python",
   "name": "python",
   "nbconvert_exporter": "python",
   "pygments_lexer": "ipython3",
   "version": "3.10.8"
  }
 },
 "nbformat": 4,
 "nbformat_minor": 5
}
